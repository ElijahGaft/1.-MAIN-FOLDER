{
 "cells": [
  {
   "cell_type": "markdown",
   "metadata": {},
   "source": [
    "### Полезные ссылки\n",
    "**Горячие клавиши на русском**\n",
    "https://medium.com/@jetbootsmaker/%D0%BF%D0%BE%D0%B2%D1%8B%D1%88%D0%B0%D0%B5%D0%BC-%D0%BF%D1%80%D0%BE%D0%B4%D1%83%D0%BA%D1%82%D0%B8%D0%B2%D0%BD%D0%BE%D1%81%D1%82%D1%8C-%D0%BF%D1%80%D0%B8-%D1%80%D0%B0%D0%B1%D0%BE%D1%82%D0%B5-%D1%81-jupyter-notebook-81a1cab8bac1"
   ]
  },
  {
   "cell_type": "markdown",
   "metadata": {},
   "source": [
    "**Примеры работы с jupyter**\n",
    "https://nbviewer.jupyter.org/github/ipython/ipython/blob/2.x/examples/Notebook/Display%20System.ipynb#LaTeX"
   ]
  },
  {
   "cell_type": "markdown",
   "metadata": {},
   "source": [
    "**Хорошо рассказывается про оптимизацию Jupyter** https://tproger.ru/translations/how-to-optimize-jupyter-notebook/ "
   ]
  },
  {
   "cell_type": "markdown",
   "metadata": {},
   "source": [
    "**Официальные расширения для Jupyter** https://github.com/ipython/ipython/wiki/Extensions-Index "
   ]
  },
  {
   "cell_type": "markdown",
   "metadata": {},
   "source": [
    "**Включение нумерации в формул:** https://qa-help.ru/questions/uravnenie-numeraczii-v-noutbukakh-jupyter \n",
    "\n",
    "_в частности нужно добавить:_ %%javascript MathJax.Hub.Config({ TeX: { equationNumbers: { autoNumber: \"AMS\" } } });"
   ]
  },
  {
   "cell_type": "markdown",
   "metadata": {},
   "source": [
    " **(some) LaTeX environments for Jupyter notebook:** https://github.com/jfbercher/jupyter_latex_envs"
   ]
  },
  {
   "cell_type": "code",
   "execution_count": null,
   "metadata": {},
   "outputs": [],
   "source": []
  }
 ],
 "metadata": {
  "kernelspec": {
   "display_name": "Python 3",
   "language": "python",
   "name": "python3"
  },
  "language_info": {
   "codemirror_mode": {
    "name": "ipython",
    "version": 3
   },
   "file_extension": ".py",
   "mimetype": "text/x-python",
   "name": "python",
   "nbconvert_exporter": "python",
   "pygments_lexer": "ipython3",
   "version": "3.6.7"
  }
 },
 "nbformat": 4,
 "nbformat_minor": 2
}

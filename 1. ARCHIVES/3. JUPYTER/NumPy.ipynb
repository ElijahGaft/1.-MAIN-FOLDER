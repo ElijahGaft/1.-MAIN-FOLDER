{
 "cells": [
  {
   "cell_type": "markdown",
   "metadata": {},
   "source": [
    "## NumPy\n",
    "**NumPy** (numeric python) – библиотека, реализующая вычислительные алгоритмы, оптимизированные для работы с многомерными массивами. В NumPy представлена альтернатива спискам – NumPy Array (массивы), операции с которыми выполняются поэлементно (“векторизация”) и намного быстрее. В массиве могут быть элементы только одного типа."
   ]
  },
  {
   "cell_type": "code",
   "execution_count": null,
   "metadata": {},
   "outputs": [],
   "source": []
  }
 ],
 "metadata": {
  "kernelspec": {
   "display_name": "Python 3",
   "language": "python",
   "name": "python3"
  },
  "language_info": {
   "codemirror_mode": {
    "name": "ipython",
    "version": 3
   },
   "file_extension": ".py",
   "mimetype": "text/x-python",
   "name": "python",
   "nbconvert_exporter": "python",
   "pygments_lexer": "ipython3",
   "version": "3.7.3"
  }
 },
 "nbformat": 4,
 "nbformat_minor": 2
}

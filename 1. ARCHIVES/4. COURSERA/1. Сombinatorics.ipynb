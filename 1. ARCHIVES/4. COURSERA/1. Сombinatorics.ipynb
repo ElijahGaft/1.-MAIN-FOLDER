{
 "cells": [
  {
   "cell_type": "markdown",
   "metadata": {},
   "source": [
    "## Lecture 1"
   ]
  },
  {
   "cell_type": "markdown",
   "metadata": {},
   "source": [
    "**Правила сложения и умножения**:\n",
    "\n",
    "$ A = \\{a_1,...,a_n\\}, B = \\{b_1,...,b_m\\} $ \n",
    "$$ K = A + B = \\{a_1,...,a_n,b_1,...,b_m\\} $$\n",
    "$$ Z = A B = \\{a_1 b_1,...,a_1 b_m,a_n b_1,...,a_n b_m\\} $$"
   ]
  },
  {
   "cell_type": "code",
   "execution_count": null,
   "metadata": {},
   "outputs": [],
   "source": []
  },
  {
   "cell_type": "code",
   "execution_count": null,
   "metadata": {},
   "outputs": [],
   "source": []
  },
  {
   "cell_type": "code",
   "execution_count": null,
   "metadata": {},
   "outputs": [],
   "source": []
  }
 ],
 "metadata": {
  "kernelspec": {
   "display_name": "Python 3",
   "language": "python",
   "name": "python3"
  },
  "language_info": {
   "codemirror_mode": {
    "name": "ipython",
    "version": 3
   },
   "file_extension": ".py",
   "mimetype": "text/x-python",
   "name": "python",
   "nbconvert_exporter": "python",
   "pygments_lexer": "ipython3",
   "version": "3.7.3"
  }
 },
 "nbformat": 4,
 "nbformat_minor": 2
}
